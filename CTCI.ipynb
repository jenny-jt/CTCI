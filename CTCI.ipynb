{
 "cells": [
  {
   "cell_type": "markdown",
   "metadata": {},
   "source": [
    "### Arrays (CTCI)\n",
    "- Strings: ASCII or Unicode\n",
    "    - Unicode is a standard for working with a wide range of characters. Each symbol has a codepoint (a number), and these codepoints can be encoded (converted to a sequence of bytes) using a variety of encodings.\n",
    "    - UTF-8 is one such encoding. The low codepoints are encoded using a single byte, and higher codepoints are encoded as sequences of bytes."
   ]
  },
  {
   "cell_type": "code",
   "execution_count": 4,
   "metadata": {
    "scrolled": true
   },
   "outputs": [],
   "source": [
    "# 1.1 Write a function to determine if all letters in string are unique\n",
    "# - empty string? return False\n",
    "# dict: store char as keys in dictionary with default value 1 O(n)\n",
    "    # if key already exists, then char is not unique and return false (use if key in dict, not if dict[key] )\n",
    "# set: create set from string O(n), if len(set) < len(str): return false\n",
    "\n",
    "def unique_string_dict(str):  # solution #1 using dictionary\n",
    "    \"\"\"given str, check if letters unique, return True/False\"\"\"\n",
    "    if not str:\n",
    "        return False\n",
    "    \n",
    "    letters = {}\n",
    "    \n",
    "    for char in str:\n",
    "        if char in letters:\n",
    "            return False\n",
    "        letters[char] = 1\n",
    "    \n",
    "    return True\n",
    "\n",
    "def unique_string_set(str):  # solution #2 using set\n",
    "    \"\"\"given str, check if letters unique, return True/False\"\"\"\n",
    "    if not str:\n",
    "        return False\n",
    "    \n",
    "    return len(set(str)) == len(str)\n",
    "        \n",
    "assert unique_string_set(\"hi world\") == True\n",
    "assert unique_string_set(\"hello\") == False\n",
    "assert unique_string_dict(\"hello\") == False"
   ]
  },
  {
   "cell_type": "code",
   "execution_count": null,
   "metadata": {
    "scrolled": true
   },
   "outputs": [],
   "source": [
    "# 1.2 Given two strings, write a method to decide if one is a permutation of the other\n",
    "# ask if case-sensitive (Y) or if punctuation/whitespace is significant (Y)\n",
    "# check if strings are equal length; if yes, sort and see if contain the same chars\n",
    "\n",
    "def s_perm(str1, str2):\n",
    "    \"given 2 strings, check if permutations, return True if yes and False if no\"\n",
    "    \n",
    "    if len(str1) != len(str2):\n",
    "        return False\n",
    "    \n",
    "    s1 = sorted(str1)\n",
    "    s2 = sorted(str2)\n",
    "    i = 0 \n",
    "    \n",
    "    while s1[i] == s2[i]:\n",
    "        i +=1\n",
    "        if s1[len(s1)-1] == s2[len(s2)-1]:\n",
    "            return True\n",
    "    else:\n",
    "        return False\n",
    "\n",
    "s_perm(\"hello\", \"loleh\")"
   ]
  },
  {
   "cell_type": "code",
   "execution_count": null,
   "metadata": {
    "scrolled": true
   },
   "outputs": [],
   "source": [
    "# 1.3 Write a method to replace all spaces in a string with \"%20\"\n",
    "def URLify(str):\n",
    "    \"\"\"given str, replace all spaces with \"%20\" \"\"\"\n",
    "    \n",
    "    URL_string = str.replace(\" \", \"%20\")\n",
    "    \n",
    "    return URL_string\n",
    "\n",
    "URLify(\"I love dogs\")"
   ]
  },
  {
   "cell_type": "code",
   "execution_count": 6,
   "metadata": {
    "scrolled": true
   },
   "outputs": [
    {
     "data": {
      "text/plain": [
       "False"
      ]
     },
     "execution_count": 6,
     "metadata": {},
     "output_type": "execute_result"
    }
   ],
   "source": [
    "# 1.4 Given a string, write a function to check if it is a permutation of a palindrome\n",
    "from collections import defaultdict\n",
    "\n",
    "def perm_s(s):\n",
    "    \"\"\"given str s, check if str is a permutation of a palindrome\"\"\"\n",
    "    counts = defaultdict(int)\n",
    "    \n",
    "    for char in s:\n",
    "        if char == \" \":\n",
    "            continue\n",
    "        else:\n",
    "            # if no counts[char], default is 0. can always increment by 1\n",
    "            counts[char] += 1\n",
    "\n",
    "    Odd = False\n",
    "    \n",
    "    for key, value in counts.items():\n",
    "        if value % 2 == 1:\n",
    "            if Odd:\n",
    "                # if Odd is not False, then there was already an odd count\n",
    "                return False\n",
    "            # setting Odd to True once encounter an odd count\n",
    "            Odd = True\n",
    "            \n",
    "    return True\n",
    "    \n",
    "perm_s(\"racecar\")       \n",
    "perm_s(\"park ranger\")"
   ]
  },
  {
   "cell_type": "code",
   "execution_count": 29,
   "metadata": {
    "scrolled": true
   },
   "outputs": [
    {
     "data": {
      "text/plain": [
       "True"
      ]
     },
     "execution_count": 29,
     "metadata": {},
     "output_type": "execute_result"
    }
   ],
   "source": [
    "# 1.5 Given 2 strings, write a functiono to check if they are one \n",
    "# edit(insert/remove/replace char) away\n",
    "\n",
    "def one_away(s1, s2):\n",
    "    \"\"\"given 2 strings, return True if one edit or less away, False is more\"\"\"\n",
    "    # True if they're equal\n",
    "    if s1 == s2:\n",
    "        return True\n",
    "    # if lengths more than 1 different, return False\n",
    "    elif abs(len(s2)-len(s1)) > 1:\n",
    "        return False\n",
    "    # replace\n",
    "    else:\n",
    "        i,j = 0,0\n",
    "        diff = False\n",
    "        while i < len(s1) and j < len(s2):\n",
    "            if s1[i] == s2[j]:\n",
    "                i += 1\n",
    "                j += 1\n",
    "            elif not diff:\n",
    "                diff = True\n",
    "            # check for substitution\n",
    "                if len(s1) == len(s2):\n",
    "                    i += 1\n",
    "                    j += 1\n",
    "                elif len(s1) > len(s2):\n",
    "                    j += 1\n",
    "                elif len(s1) < len(s2):\n",
    "                    i += 1\n",
    "            else:\n",
    "                return False\n",
    "            \n",
    "        return True\n",
    "    \n",
    "one_away(\"peepers\", \"peppers\")\n"
   ]
  },
  {
   "cell_type": "code",
   "execution_count": 43,
   "metadata": {
    "scrolled": true
   },
   "outputs": [
    {
     "data": {
      "text/plain": [
       "'o3'"
      ]
     },
     "execution_count": 43,
     "metadata": {},
     "output_type": "execute_result"
    }
   ],
   "source": [
    "# 1.6 Write a function to compress a string using the counts of \n",
    "# repeated characters. If compressed is not shorter than original, \n",
    "# return original string\n",
    "from collections import Counter\n",
    "\n",
    "def compress_s(s):\n",
    "    \"\"\"given s, return s with char counts for duplicate if shorter, otherwise return s\"\"\"\n",
    "    c = Counter(s)\n",
    "    l = []\n",
    "\n",
    "    for key, value in c.items():\n",
    "        l.extend([key, str(value)])\n",
    "    \n",
    "    if len(s) <= len(l):\n",
    "        return s\n",
    "    else:\n",
    "        return \"\".join(l)\n",
    "\n",
    "compress_s('hippoppotttttttamus')\n",
    "compress_s('ooo')\n",
    "\n"
   ]
  },
  {
   "cell_type": "code",
   "execution_count": 45,
   "metadata": {
    "scrolled": true
   },
   "outputs": [
    {
     "name": "stdout",
     "output_type": "stream",
     "text": [
      "15 13 2 5 \n",
      "14 3 4 1 \n",
      "12 6 8 9 \n",
      "16 7 10 11 \n"
     ]
    }
   ],
   "source": [
    "# 1.7 Given NxN matrix, w each pixel 4bytes, write a method to rotate image by 90 degrees\n",
    "\n",
    "# Input - [\n",
    "#   [ 5, 1, 9,11],\n",
    "#   [ 2, 4, 8,10],\n",
    "#   [13, 3, 6, 7],\n",
    "#   [15,14,12,16]\n",
    "# ]\n",
    "\n",
    "# Output - [\n",
    "#   [15,13, 2, 5],\n",
    "#   [14, 3, 4, 1],\n",
    "#   [12, 6, 8, 9],\n",
    "#   [16, 7,10,11]\n",
    "# ]\n",
    "#     1st loop:\n",
    "#     0,1 1,0 1/2\n",
    "#     0,2 2,0 13/9\n",
    "#     0,3 3,0 15/11\n",
    "#     1,2 2,1 8/3\n",
    "#     1,3 3,1 14/10\n",
    "#     2,3 3,2 12/7\n",
    "    \n",
    "#     after 1st loop:\n",
    "#     5, 2, 13, 15\n",
    "#     1, 4, 3, 14\n",
    "#     9, 8, 6, 12\n",
    "#     11, 10, 7, 16\n",
    "    \n",
    "def rotate_m(m):\n",
    "    \"\"\"given matrix of nxn, rotate it 90 degrees in place\"\"\"\n",
    "    # time complexity O(n*m), space complexity O(1) bc in place\n",
    "    \n",
    "    for r in range(len(m)):\n",
    "        for c in range (r + 1, len(m)):\n",
    "            m[r][c], m[c][r] = m[c][r], m[r][c]\n",
    "    \n",
    "    for r in range(len(m)):\n",
    "        for i in range(len(m[r]) // 2):\n",
    "            # index of opposite side of row\n",
    "            j = len(m[r]) - 1 - i\n",
    "            m[r][i], m[r][j] = m[r][j], m[r][i]\n",
    "\n",
    "def print_m(m):\n",
    "    \"\"\"given m, print out m\"\"\"\n",
    "    for r in range(len(m)):\n",
    "        for c in range(len(m)):\n",
    "            # turns new line into a space\n",
    "            print(m[r][c], end=\" \")\n",
    "        # inserts a line after every row\n",
    "        print()\n",
    "m = [\n",
    "  [ 5, 1, 9,11],\n",
    "  [ 2, 4, 8,10],\n",
    "  [13, 3, 6, 7],\n",
    "  [15,14,12,16]\n",
    "]\n",
    "\n",
    "rotate_m(m)\n",
    "print_m(m)"
   ]
  },
  {
   "cell_type": "code",
   "execution_count": 49,
   "metadata": {
    "scrolled": true
   },
   "outputs": [
    {
     "name": "stdout",
     "output_type": "stream",
     "text": [
      "5 1 9 0 \n",
      "2 4 8 0 \n",
      "0 0 0 0 \n",
      "15 14 12 0 \n"
     ]
    }
   ],
   "source": [
    "# 1.8 Write a function that sets its entire row and column to 0 if an element is 0\n",
    "\n",
    "def zero_m(m):\n",
    "    \"\"\"for each 0 element in m, row and column set to 0\"\"\"\n",
    "    # time complexity O(n*m), space complexity O(1) bc in place\n",
    "\n",
    "#     iterate through the matrix, checking if each value == 0\n",
    "#     if 0, then get index of row and index of column\n",
    "#     loop through m[r] and set each value to 0\n",
    "#     loop through m[c] and set each value to 0\n",
    "    target_r, target_c = set(), set()\n",
    "    \n",
    "    for r in range(len(m)):\n",
    "        for c in range(len(m)):\n",
    "            if m[r][c] == 0:\n",
    "                target_r.add(r)\n",
    "                target_c.add(c)\n",
    "    \n",
    "    for r in target_r:\n",
    "        for c in range(len(m)):\n",
    "            m[r][c] = 0\n",
    "    \n",
    "    for c in target_c:\n",
    "        for r in range(len(m)):\n",
    "            m[r][c] = 0\n",
    "\n",
    "def print_m(m):\n",
    "    \"\"\"given m, print out m\"\"\"\n",
    "    for r in range(len(m)):\n",
    "        for c in range(len(m)):\n",
    "            # turns new line into a space\n",
    "            print(m[r][c], end=\" \")\n",
    "        # inserts a line after every row\n",
    "        print()\n",
    "        \n",
    "m = [\n",
    "  [ 5, 1, 9,11],\n",
    "  [ 2, 4, 8,10],\n",
    "  [13, 3, 6, 0],\n",
    "  [15,14,12,16]\n",
    "]\n",
    "\n",
    "zero_m(m)\n",
    "print_m(m)      "
   ]
  },
  {
   "cell_type": "code",
   "execution_count": null,
   "metadata": {
    "scrolled": true
   },
   "outputs": [],
   "source": [
    "# 1.9 Given 2 strings, write a function to determine if one is a rotation of the other string. \n",
    "# You are given another funiton that you can call only once, that determines if a string is a substring\n",
    "\n",
    "def is_rotation(s1, s2):\n",
    "    \"\"\" given s1 and s2, return true if s1 is a substring of s2\"\"\"\n",
    "    # time complexity O(n + m) and space complexity same\n",
    "    return isSubstring(s1, s2 + s2)"
   ]
  },
  {
   "cell_type": "markdown",
   "metadata": {},
   "source": [
    "### Linked Lists\n",
    "- easy to remove/add to beginning, but searching through LL takes O(n) time\n",
    "- give up ability to access items by index\n",
    "\n",
    "SLL (Singly Linked List): update next\n",
    "- good for a lot of insertion/deletion\n",
    "DLL (Doubly Linked List): update prev and next\n",
    "- good for deleting from the middle oro traversing in reverse order\n",
    "- constant time access to all 3 nodes (previous, current, next)"
   ]
  },
  {
   "cell_type": "code",
   "execution_count": null,
   "metadata": {
    "scrolled": true
   },
   "outputs": [],
   "source": [
    "# 2.1 Given LL, remove its duplicate items\n",
    "\n",
    "def remove_dup(l):\n",
    "    \"\"\"remove duplicate items of l\"\"\"\n",
    "    # time complexity O(n) and space same\n",
    "    curr = head\n",
    "    seen = set()\n",
    "    while curr and curr.next:\n",
    "        if curr.next.val in seen:\n",
    "            curr.next = curr.next.next\n",
    "        else:\n",
    "            seen.add(curr.next.value)\n",
    "            curr = curr.next"
   ]
  },
  {
   "cell_type": "code",
   "execution_count": null,
   "metadata": {
    "scrolled": true
   },
   "outputs": [],
   "source": [
    "# 2.2 Given LL and k, write a function to find the kth to last node in that LL\n",
    "\n",
    "def find_k_node(l, k):\n",
    "    \"\"\"given k and linked list, find node that is kth to last node\"\"\"\n",
    "    count = 1\n",
    "    while count <= k:\n",
    "        curr = head\n",
    "        curr = curr.next\n",
    "        count += 1\n",
    "    \n",
    "    return curr.data\n",
    "\n",
    "# using fast and slow pointers\n",
    "def find_k_node(l, k):\n",
    "    \"\"\"given k and linked list, find node that is kth to last node\"\"\"\n",
    "    # time complexity O(n), space complexity O(1) because one node at a time\n",
    "    fast = head\n",
    "    # make fast pointer k nodes ahead\n",
    "    for node in range(k):\n",
    "        if fast:\n",
    "            fast = fast.next\n",
    "        else:\n",
    "            return None\n",
    "    \n",
    "    slow = head\n",
    "    # fast will exist until it reaches the last node, where fast will equal None since last node points to None\n",
    "    while fast:\n",
    "        fast = fast.next\n",
    "        slow = slow.next\n",
    "    \n",
    "    return slow\n",
    "        "
   ]
  },
  {
   "cell_type": "code",
   "execution_count": null,
   "metadata": {
    "scrolled": true
   },
   "outputs": [],
   "source": [
    "# 2.3 given SLL and a pointer to a node, write a function that will delete that node in place\n",
    "\n",
    "def delete_node(node):\n",
    "    \"\"\"given node, delete node in place\"\"\"\n",
    "    # time complexity O(1), space complexity O(1)\n",
    "    node.data = fast.next.data\n",
    "    node.next = node.next.next"
   ]
  },
  {
   "cell_type": "code",
   "execution_count": null,
   "metadata": {
    "scrolled": true
   },
   "outputs": [],
   "source": [
    "# 2.4 given key and LL, partition the ll around the key\n",
    "\n",
    "def partition_l(key, l):\n",
    "    \"\"\"given key and ll, sort ll so that all nodes with values less than key are on the left\"\"\"\n",
    "    # time complexity O(n)\n",
    "    # https://quastor.org/cracking-the-coding-interview/linked-lists/partition\n",
    "    curr = head\n",
    "    head_l = Node(None)\n",
    "    head_g = Node(None)\n",
    "    \n",
    "    while curr:\n",
    "        if curr.data < key:\n",
    "            head_l.next = curr\n",
    "            head_l = head_l.next\n",
    "        else:\n",
    "            head_g.next = curr\n",
    "            head_g = head_g.next\n",
    "        curr = curr.next\n",
    "        \n",
    "    head_l.next = head_g"
   ]
  },
  {
   "cell_type": "code",
   "execution_count": null,
   "metadata": {},
   "outputs": [],
   "source": [
    "# 2.5 given 2 numbers as reversed LL, return sum as a reversed LL\n",
    "\n",
    "# define node class\n",
    "class Node(self, val):\n",
    "    self.val = val\n",
    "    self.next = None\n",
    "    \n",
    "def sum_ll(l1, l2):\n",
    "    \"\"\"given 2 rev ll as nums, return sum of nums as rev ll\"\"\"\n",
    "    # time and space complexity O(n)\n",
    "    \n",
    "    # initialize empty sum ll\n",
    "    sum_ll = Node(None)\n",
    "    curr = sum_ll\n",
    "    carry = False\n",
    "    \n",
    "    while l1 or l2 or carry:\n",
    "        # initialize new node with value of 0\n",
    "        new_node = Node(0)\n",
    "        \n",
    "        if l1:\n",
    "            new_node.val += l1.val\n",
    "            l1 = l1.next\n",
    "        if l2:\n",
    "            new_node.val += l2.val\n",
    "            l2 = l2.next\n",
    "        if carry:\n",
    "            new_node.val += 1\n",
    "            carry = False\n",
    "        if new_node.val > 9:\n",
    "            carry = True\n",
    "            new_node.val -= 10\n",
    "            \n",
    "        # node after current is new node\n",
    "        curr.next = new_node\n",
    "        # move onto next node\n",
    "        curr = curr.next\n",
    "    \n",
    "    return sum_ll.next\n",
    "    "
   ]
  },
  {
   "cell_type": "code",
   "execution_count": null,
   "metadata": {},
   "outputs": [],
   "source": [
    "# 2.6 Palindrome\n",
    "\n",
    "# define node class\n",
    "def rev_ll(ll):\n",
    "    \"\"\"given ll, return reversed ll\"\"\"\n",
    "    prev = None\n",
    "    while ll:\n",
    "        temp = ll.next\n",
    "        ll.next = prev\n",
    "        prev = ll\n",
    "        ll = temp\n",
    "    return prev\n",
    "    \n",
    "def check_pal(ll):\n",
    "    \"\"\"given a ll, check if ll is a palindrome\"\"\"\n",
    "    # time complexity O(n), space complexity O(1)\n",
    "# return True if empty ll (empty is palindrome, same both ways)\n",
    "    if not ll:\n",
    "        return True\n",
    "    \n",
    "# get length of linked list\n",
    "    length = 0\n",
    "    curr = ll\n",
    "    while curr:\n",
    "        length += 1\n",
    "        curr = curr.next\n",
    "# find halfway point\n",
    "    if length % 2 == 0:\n",
    "        median = length // 2\n",
    "    else:\n",
    "        median = (length // 2) + 1\n",
    "# reverse second half\n",
    "    # find value for head of second list, starting w median\n",
    "    curr = ll\n",
    "    for node in range(median-1):\n",
    "        curr = curr.next\n",
    "        \n",
    "    second_ll = curr.next\n",
    "    curr.next = None\n",
    "    second_ll = rev_ll(second_ll)\n",
    "    \n",
    "# compare both halves\n",
    "    first_ll = ll\n",
    "    while first_ll and second_ll:\n",
    "        if first_ll.val != second_ll.val:\n",
    "            return False\n",
    "        first_ll = first_ll.next\n",
    "        second_ll = second_ll.next\n",
    "\n",
    "    return True"
   ]
  },
  {
   "cell_type": "code",
   "execution_count": null,
   "metadata": {},
   "outputs": [],
   "source": [
    "# 2.7 Given 2 ll, determine if intersect. if yes, return intersecting node\n",
    "\n",
    "def findMergeNode(head1, head2):\n",
    "    \"\"\"given 2 ll, return data value of intersecting node. otherwise return none\"\"\"\n",
    "    # find lengths and tails of each list\n",
    "    # advance longer list by the diff in lengths\n",
    "    curr1, curr2 = head1, head2\n",
    "    len1, len2, diff = 0, 0, 0\n",
    "    \n",
    "    while curr1:\n",
    "        len1 += 1\n",
    "        curr1 = curr1.next\n",
    "        \n",
    "    while curr2:\n",
    "        len2 += 1\n",
    "        curr2 = curr2.next\n",
    "    \n",
    "# if tails not same, then no intersection\n",
    "    if curr1 != curr2:\n",
    "        return\n",
    "    \n",
    "# if diff lengths, find diff   \n",
    "    if len1 - len2 != 0:\n",
    "        diff +=  (len1 - len2)\n",
    "        \n",
    "# reset to beginning\n",
    "    curr1 = head1\n",
    "    curr2 = head2\n",
    "    \n",
    "# if diff lengths:\n",
    "    # if 1 longer than 2\n",
    "    if diff > 0:\n",
    "        for i in range(diff):\n",
    "            curr1 = curr1.next\n",
    "    # if 2 longer than 1\n",
    "    if diff < 0:\n",
    "        for i in range(abs(diff)):\n",
    "            curr2 = curr2.next\n",
    "        \n",
    "    # traverse lists from this starting point. when curr1 and curr2 are equal, then return that value\n",
    "    while curr1 and curr2:\n",
    "        if curr1 == curr2:\n",
    "            return curr1.data\n",
    "        curr1 = curr1.next\n",
    "        curr2 = curr2.next"
   ]
  },
  {
   "cell_type": "code",
   "execution_count": null,
   "metadata": {},
   "outputs": [],
   "source": [
    "# 2.8 Given circular LL, return node at beginning of loop\n",
    "# https://www.youtube.com/watch?v=MFOAbpfrJ8g\n",
    "\n",
    "def loop_ll(ll):\n",
    "    \"\"\"takes in ll, return node at beginning of loop\n",
    "        return none if no loop\n",
    "    \"\"\"\n",
    "    # find intersection/loop\n",
    "    # return prev node to it\n",
    "    \n",
    "    fast = ll.next\n",
    "    slow = ll\n",
    "    \n",
    "    # if fast has not reached end of list, then slow definitely hasn't\n",
    "    while fast and fast.next:\n",
    "        # if fast and slow land on same node, then there is a loops\n",
    "        if fast == slow:\n",
    "            return slow\n",
    "        # fast jumps a node ahead each time\n",
    "        fast = fast.next.next\n",
    "        slow = slow.next\n",
    "    "
   ]
  },
  {
   "cell_type": "markdown",
   "metadata": {
    "scrolled": true
   },
   "source": [
    "### Stacks & Queues"
   ]
  },
  {
   "cell_type": "code",
   "execution_count": null,
   "metadata": {
    "scrolled": true
   },
   "outputs": [],
   "source": [
    "# Use a single array to implement 3 stacks\n",
    "import pytest\n",
    "\n",
    "\n",
    "class multi_stack:\n",
    "    def __init__(self, stack_size, number_of_stacks):\n",
    "        self.number_of_stacks = number_of_stacks\n",
    "        self.array = [0] * (stack_size * self.number_of_stacks)\n",
    "        self.sizes = [0] * self.number_of_stacks\n",
    "        self.stack_size = stack_size\n",
    "\n",
    "    def push(self, value, stack_num):\n",
    "        self._assert_valid_stack_num(stack_num)\n",
    "        if self.is_full(stack_num):\n",
    "            raise StackFullError(f\"Push failed: stack #{stack_num} is full\")\n",
    "        self.sizes[stack_num] += 1\n",
    "        self.array[self.index_of_top(stack_num)] = value\n",
    "\n",
    "    def pop(self, stack_num):\n",
    "        self._assert_valid_stack_num(stack_num)\n",
    "        if self.is_empty(stack_num):\n",
    "            raise StackEmptyError(f\"Cannot pop from empty stack #{stack_num}\")\n",
    "        value = self.array[self.index_of_top(stack_num)]\n",
    "        self.array[self.index_of_top(stack_num)] = 0\n",
    "        self.sizes[stack_num] -= 1\n",
    "        return value\n",
    "\n",
    "    def peek(self, stack_num):\n",
    "        self._assert_valid_stack_num(stack_num)\n",
    "        if self.is_empty(stack_num):\n",
    "            raise StackEmptyError(f\"Cannot peek at empty stack #{stack_num}\")\n",
    "        return self.array[self.index_of_top(stack_num)]\n",
    "\n",
    "    def is_empty(self, stack_num):\n",
    "        self._assert_valid_stack_num(stack_num)\n",
    "        return self.sizes[stack_num] == 0\n",
    "\n",
    "    def is_full(self, stack_num):\n",
    "        self._assert_valid_stack_num(stack_num)\n",
    "        return self.sizes[stack_num] == self.stack_size\n",
    "\n",
    "    def index_of_top(self, stack_num):\n",
    "        self._assert_valid_stack_num(stack_num)\n",
    "        offset = stack_num * self.stack_size\n",
    "        return offset + self.sizes[stack_num] - 1\n",
    "\n",
    "    def _assert_valid_stack_num(self, stack_num):\n",
    "        if stack_num >= self.number_of_stacks:\n",
    "            raise StackDoesNotExistError(f\"Stack #{stack_num} does not exist\")"
   ]
  },
  {
   "cell_type": "markdown",
   "metadata": {
    "scrolled": true
   },
   "source": [
    "### Sorting and Searching"
   ]
  },
  {
   "cell_type": "code",
   "execution_count": 11,
   "metadata": {
    "scrolled": true
   },
   "outputs": [
    {
     "name": "stdout",
     "output_type": "stream",
     "text": [
      "res [9] i 1 j 0\n",
      "res [9, 10] i 2 j 0\n",
      "res [9, 10, 11] i 3 j 0\n",
      "res [9, 10, 11, 12] i 4 j 0\n",
      "res [9, 10, 11, 12, 13] i 5 j 0\n",
      "res [9, 10, 11, 12, 13, 15] i 5 j 1\n"
     ]
    },
    {
     "data": {
      "text/plain": [
       "[9, 10, 11, 12, 13, 15, 16]"
      ]
     },
     "execution_count": 11,
     "metadata": {},
     "output_type": "execute_result"
    }
   ],
   "source": [
    "# 10.1 Given 2 sorted arrays, A & B, write a method to merge B into A\n",
    "\n",
    "def merge_lists(A, B):\n",
    "    \"\"\"Given 2 sorted arrays, A & B, return array of B merged into A\"\"\"\n",
    "    # two pointers that point at the head of A & B\n",
    "    # initialize new array, append the lesser of heads to new array\n",
    "    i, j = 0, 0\n",
    "    res = []\n",
    "    \n",
    "    while i <= len(A)-1 and j <= len(B)-1 :\n",
    "        if A[i] <= B[j]:\n",
    "            res.append(A[i])\n",
    "            i += 1\n",
    "        else:\n",
    "            res.append(B[j])\n",
    "            j += 1\n",
    "\n",
    "    res.extend(A[i:])\n",
    "    res.extend(B[j:])\n",
    "            \n",
    "    return res\n",
    "\n",
    "merge_lists([9, 10, 11, 12, 13, 16], [15])"
   ]
  },
  {
   "cell_type": "code",
   "execution_count": 30,
   "metadata": {},
   "outputs": [
    {
     "data": {
      "text/plain": [
       "['abed', 'bead', 'bade', 'later', 'alert', 'alter', 'altered', 'alerted']"
      ]
     },
     "execution_count": 30,
     "metadata": {},
     "output_type": "execute_result"
    }
   ],
   "source": [
    "# 10.2 Group Anagrams\n",
    "from collections import defaultdict\n",
    "\n",
    "def anagrams(arr):\n",
    "    \"\"\"given array of strings, return array so all anagrams are next to each other\"\"\"\n",
    "    # find all anagrams\n",
    "    # append anagram to new list\n",
    "    # append other strings\n",
    "    anagrams = defaultdict(list)\n",
    "    for s in arr:\n",
    "        sorted_s = \"\".join(sorted(s.lower()))\n",
    "        anagrams[sorted_s].append(s)\n",
    "\n",
    "    sorted_words = []\n",
    "    for similar_words in anagrams.values():\n",
    "        sorted_words.extend(similar_words)\n",
    "    return sorted_words\n",
    "\n",
    "anagrams([\"abed\", \"later\", \"bead\", \"alert\", \"altered\", \"bade\", \"alter\", \"alerted\"])"
   ]
  },
  {
   "cell_type": "code",
   "execution_count": 34,
   "metadata": {},
   "outputs": [
    {
     "name": "stdout",
     "output_type": "stream",
     "text": [
      "range(0, 2)\n",
      "0\n",
      "1\n"
     ]
    }
   ],
   "source": [
    "print(range(2))\n",
    "for i in range(2):\n",
    "    print(i)"
   ]
  },
  {
   "cell_type": "code",
   "execution_count": null,
   "metadata": {},
   "outputs": [],
   "source": []
  }
 ],
 "metadata": {
  "kernelspec": {
   "display_name": "Python 3",
   "language": "python",
   "name": "python3"
  },
  "language_info": {
   "codemirror_mode": {
    "name": "ipython",
    "version": 3
   },
   "file_extension": ".py",
   "mimetype": "text/x-python",
   "name": "python",
   "nbconvert_exporter": "python",
   "pygments_lexer": "ipython3",
   "version": "3.8.5"
  }
 },
 "nbformat": 4,
 "nbformat_minor": 4
}
